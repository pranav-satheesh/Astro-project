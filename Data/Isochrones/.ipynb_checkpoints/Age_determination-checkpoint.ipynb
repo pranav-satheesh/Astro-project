{
 "cells": [
  {
   "cell_type": "code",
   "execution_count": 14,
   "id": "3d52a3da-abf0-4022-973c-5d070c75a539",
   "metadata": {},
   "outputs": [],
   "source": [
    "import numpy as np\n",
    "import matplotlib.pyplot as plt\n",
    "import pandas as pd\n",
    "plt.style.use('default')"
   ]
  },
  {
   "cell_type": "code",
   "execution_count": 3,
   "id": "b3acc7e5-c4be-4590-9cc5-839f0f164556",
   "metadata": {},
   "outputs": [],
   "source": [
    "E,f606w,f814w=np.loadtxt(\"tmp.txt\",unpack=True,usecols=(0,13,17))"
   ]
  },
  {
   "cell_type": "code",
   "execution_count": 4,
   "id": "7ac2ad52-ad4c-432f-9a0b-83952c4681f2",
   "metadata": {},
   "outputs": [],
   "source": [
    "E1,f06w1,f814w1=np.loadtxt(\"cmd1.txt\",unpack=True,usecols=(0,13,17))"
   ]
  },
  {
   "cell_type": "code",
   "execution_count": 5,
   "id": "ec000f0e-0110-48b6-8107-26708e88af21",
   "metadata": {},
   "outputs": [],
   "source": [
    "ds = np.size(E1)"
   ]
  },
  {
   "cell_type": "code",
   "execution_count": 6,
   "id": "612edfa4-603f-4ebc-bb85-7cb436e88ff3",
   "metadata": {},
   "outputs": [
    {
     "data": {
      "text/plain": [
       "array([ 13.,  14.,  15.,  16.,  17.,  18.,  19.,  20.,  21.,  22.,  23.,\n",
       "        24.,  25.,  26.,  27.,  28.,  29.,  30.,  31.,  32.,  33.,  34.,\n",
       "        35.,  36.,  37.,  38.,  39.,  40.,  41.,  42.,  43.,  44.,  45.,\n",
       "        46.,  47.,  48.,  49.,  50.,  51.,  52.,  53.,  54.,  55.,  56.,\n",
       "        57.,  58.,  59.,  60.,  61.,  62.,  63.,  64.,  65.,  66.,  67.,\n",
       "        68.,  69.,  70.,  71.,  72.,  73.,  74.,  75.,  76.,  77.,  78.,\n",
       "        79.,  80.,  81.,  82.,  83.,  84.,  85.,  86.,  87.,  88.,  89.,\n",
       "        90.,  91.,  92.,  93.,  94.,  95.,  96.,  97.,  98.,  99., 100.,\n",
       "       101., 102., 103., 104., 105., 106., 107., 108., 109., 110., 111.,\n",
       "       112., 113., 114., 115., 116., 117., 118., 119., 120., 121., 122.,\n",
       "       123., 124., 125., 126., 127., 128., 129., 130., 131., 132., 133.,\n",
       "       134., 135., 136., 137., 138., 139., 140., 141., 142., 143., 144.,\n",
       "       145., 146., 147., 148., 149., 150., 151., 152., 153., 154., 155.,\n",
       "       156., 157., 158., 159., 160., 161., 162., 163., 164., 165., 166.,\n",
       "       167., 168., 169., 170., 171., 172., 173., 174., 175., 176., 177.,\n",
       "       178., 179., 180., 181., 182., 183., 184., 185., 186., 187., 188.,\n",
       "       189., 190., 191., 192., 193., 194., 195., 196., 197., 198., 199.,\n",
       "       200., 201., 202., 203., 204., 205., 206., 207., 208., 209., 210.,\n",
       "       211., 212., 213., 214., 215., 216., 217., 218., 219., 220., 221.,\n",
       "       222., 223., 224., 225., 226., 227., 228., 229., 230., 231., 232.,\n",
       "       233., 234., 235., 236., 237., 238., 239., 240., 241., 242., 243.,\n",
       "       244., 245., 246., 247., 248., 249., 250., 251., 252., 253., 254.,\n",
       "       255., 256., 257., 258., 259., 260., 261., 262., 263., 264., 265.,\n",
       "       266., 267., 268., 269., 270., 271., 272., 273., 274., 275., 276.,\n",
       "       277., 278., 279.])"
      ]
     },
     "execution_count": 6,
     "metadata": {},
     "output_type": "execute_result"
    }
   ],
   "source": [
    "E1[:ds]"
   ]
  },
  {
   "cell_type": "code",
   "execution_count": 38,
   "id": "6c8ddc68-a6c4-4fc2-849f-75fdcae439de",
   "metadata": {},
   "outputs": [],
   "source": [
    "cluster_name=\"ngc104\""
   ]
  },
  {
   "cell_type": "code",
   "execution_count": 39,
   "id": "cb0ee43b-7f8f-4760-95ec-f96087bd4992",
   "metadata": {},
   "outputs": [],
   "source": [
    "file_name = \"Data/\"+cluster_name+\".dat\""
   ]
  },
  {
   "cell_type": "code",
   "execution_count": 40,
   "id": "9c5eb080-d29e-456f-aff3-58b910aeac96",
   "metadata": {},
   "outputs": [
    {
     "ename": "FileNotFoundError",
     "evalue": "Data/ngc104.dat not found.",
     "output_type": "error",
     "traceback": [
      "\u001b[0;31m---------------------------------------------------------------------------\u001b[0m",
      "\u001b[0;31mFileNotFoundError\u001b[0m                         Traceback (most recent call last)",
      "Input \u001b[0;32mIn [40]\u001b[0m, in \u001b[0;36m<cell line: 1>\u001b[0;34m()\u001b[0m\n\u001b[0;32m----> 1\u001b[0m Color,Abs \u001b[38;5;241m=\u001b[39m \u001b[43mnp\u001b[49m\u001b[38;5;241;43m.\u001b[39;49m\u001b[43mloadtxt\u001b[49m\u001b[43m(\u001b[49m\u001b[43mfile_name\u001b[49m\u001b[43m,\u001b[49m\u001b[43munpack\u001b[49m\u001b[43m \u001b[49m\u001b[38;5;241;43m=\u001b[39;49m\u001b[43m \u001b[49m\u001b[38;5;28;43;01mTrue\u001b[39;49;00m\u001b[43m)\u001b[49m\n",
      "File \u001b[0;32m~/miniconda3/envs/a330/lib/python3.9/site-packages/numpy/lib/npyio.py:1042\u001b[0m, in \u001b[0;36mloadtxt\u001b[0;34m(fname, dtype, comments, delimiter, converters, skiprows, usecols, unpack, ndmin, encoding, max_rows, like)\u001b[0m\n\u001b[1;32m   1040\u001b[0m     fname \u001b[38;5;241m=\u001b[39m os_fspath(fname)\n\u001b[1;32m   1041\u001b[0m \u001b[38;5;28;01mif\u001b[39;00m _is_string_like(fname):\n\u001b[0;32m-> 1042\u001b[0m     fh \u001b[38;5;241m=\u001b[39m \u001b[43mnp\u001b[49m\u001b[38;5;241;43m.\u001b[39;49m\u001b[43mlib\u001b[49m\u001b[38;5;241;43m.\u001b[39;49m\u001b[43m_datasource\u001b[49m\u001b[38;5;241;43m.\u001b[39;49m\u001b[43mopen\u001b[49m\u001b[43m(\u001b[49m\u001b[43mfname\u001b[49m\u001b[43m,\u001b[49m\u001b[43m \u001b[49m\u001b[38;5;124;43m'\u001b[39;49m\u001b[38;5;124;43mrt\u001b[39;49m\u001b[38;5;124;43m'\u001b[39;49m\u001b[43m,\u001b[49m\u001b[43m \u001b[49m\u001b[43mencoding\u001b[49m\u001b[38;5;241;43m=\u001b[39;49m\u001b[43mencoding\u001b[49m\u001b[43m)\u001b[49m\n\u001b[1;32m   1043\u001b[0m     fencoding \u001b[38;5;241m=\u001b[39m \u001b[38;5;28mgetattr\u001b[39m(fh, \u001b[38;5;124m'\u001b[39m\u001b[38;5;124mencoding\u001b[39m\u001b[38;5;124m'\u001b[39m, \u001b[38;5;124m'\u001b[39m\u001b[38;5;124mlatin1\u001b[39m\u001b[38;5;124m'\u001b[39m)\n\u001b[1;32m   1044\u001b[0m     line_iter \u001b[38;5;241m=\u001b[39m \u001b[38;5;28miter\u001b[39m(fh)\n",
      "File \u001b[0;32m~/miniconda3/envs/a330/lib/python3.9/site-packages/numpy/lib/_datasource.py:193\u001b[0m, in \u001b[0;36mopen\u001b[0;34m(path, mode, destpath, encoding, newline)\u001b[0m\n\u001b[1;32m    156\u001b[0m \u001b[38;5;124;03m\"\"\"\u001b[39;00m\n\u001b[1;32m    157\u001b[0m \u001b[38;5;124;03mOpen `path` with `mode` and return the file object.\u001b[39;00m\n\u001b[1;32m    158\u001b[0m \n\u001b[0;32m   (...)\u001b[0m\n\u001b[1;32m    189\u001b[0m \n\u001b[1;32m    190\u001b[0m \u001b[38;5;124;03m\"\"\"\u001b[39;00m\n\u001b[1;32m    192\u001b[0m ds \u001b[38;5;241m=\u001b[39m DataSource(destpath)\n\u001b[0;32m--> 193\u001b[0m \u001b[38;5;28;01mreturn\u001b[39;00m \u001b[43mds\u001b[49m\u001b[38;5;241;43m.\u001b[39;49m\u001b[43mopen\u001b[49m\u001b[43m(\u001b[49m\u001b[43mpath\u001b[49m\u001b[43m,\u001b[49m\u001b[43m \u001b[49m\u001b[43mmode\u001b[49m\u001b[43m,\u001b[49m\u001b[43m \u001b[49m\u001b[43mencoding\u001b[49m\u001b[38;5;241;43m=\u001b[39;49m\u001b[43mencoding\u001b[49m\u001b[43m,\u001b[49m\u001b[43m \u001b[49m\u001b[43mnewline\u001b[49m\u001b[38;5;241;43m=\u001b[39;49m\u001b[43mnewline\u001b[49m\u001b[43m)\u001b[49m\n",
      "File \u001b[0;32m~/miniconda3/envs/a330/lib/python3.9/site-packages/numpy/lib/_datasource.py:532\u001b[0m, in \u001b[0;36mDataSource.open\u001b[0;34m(self, path, mode, encoding, newline)\u001b[0m\n\u001b[1;32m    529\u001b[0m     \u001b[38;5;28;01mreturn\u001b[39;00m _file_openers[ext](found, mode\u001b[38;5;241m=\u001b[39mmode,\n\u001b[1;32m    530\u001b[0m                               encoding\u001b[38;5;241m=\u001b[39mencoding, newline\u001b[38;5;241m=\u001b[39mnewline)\n\u001b[1;32m    531\u001b[0m \u001b[38;5;28;01melse\u001b[39;00m:\n\u001b[0;32m--> 532\u001b[0m     \u001b[38;5;28;01mraise\u001b[39;00m \u001b[38;5;167;01mFileNotFoundError\u001b[39;00m(\u001b[38;5;124mf\u001b[39m\u001b[38;5;124m\"\u001b[39m\u001b[38;5;132;01m{\u001b[39;00mpath\u001b[38;5;132;01m}\u001b[39;00m\u001b[38;5;124m not found.\u001b[39m\u001b[38;5;124m\"\u001b[39m)\n",
      "\u001b[0;31mFileNotFoundError\u001b[0m: Data/ngc104.dat not found."
     ]
    }
   ],
   "source": [
    "Color,Abs = np.loadtxt(file_name,unpack = True)"
   ]
  },
  {
   "cell_type": "code",
   "execution_count": 33,
   "id": "b5754866-9382-447d-9ed4-9f0e55a33ee1",
   "metadata": {},
   "outputs": [
    {
     "data": {
      "text/plain": [
       "(0.0, 4.0, 15.0, -5.0)"
      ]
     },
     "execution_count": 33,
     "metadata": {},
     "output_type": "execute_result"
    },
    {
     "data": {
      "image/png": "[encoded data removed]",
      "text/plain": [
       "<Figure size 640x480 with 1 Axes>"
      ]
     },
     "metadata": {},
     "output_type": "display_data"
    }
   ],
   "source": [
    "#plt.scatter(f606w[:ds]-f814w[:ds],f606w[:ds],s=1.2,c=\"purple\",alpha=0.3)\n",
    "plt.plot(f606w[:ds]-f814w[:ds],f606w[:ds],\"k-\")\n",
    "plt.axis([0,4,15,-5])"
   ]
  },
  {
   "cell_type": "code",
   "execution_count": null,
   "id": "a11bb14c-d8ff-4971-b803-e762ad7a8132",
   "metadata": {},
   "outputs": [],
   "source": []
  }
 ],
 "metadata": {
  "kernelspec": {
   "display_name": "a330",
   "language": "python",
   "name": "a330"
  },
  "language_info": {
   "codemirror_mode": {
    "name": "ipython",
    "version": 3
   },
   "file_extension": ".py",
   "mimetype": "text/x-python",
   "name": "python",
   "nbconvert_exporter": "python",
   "pygments_lexer": "ipython3",
   "version": "3.9.12"
  }
 },
 "nbformat": 4,
 "nbformat_minor": 5
}
