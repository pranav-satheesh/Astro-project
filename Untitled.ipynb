{
 "cells": [
  {
   "cell_type": "code",
   "execution_count": 1,
   "id": "e01429c1-d472-4af3-9482-bd29b5c0e70d",
   "metadata": {},
   "outputs": [],
   "source": [
    "import os\n"
   ]
  },
  {
   "cell_type": "code",
   "execution_count": 6,
   "id": "75f353f5-817d-432e-a015-1b29d2f1c9a9",
   "metadata": {},
   "outputs": [],
   "source": [
    "rpath = '/home/pranav/Grad Classes/Astro Project/Data/Isochrones/tmp.txt'"
   ]
  },
  {
   "cell_type": "code",
   "execution_count": 32,
   "id": "26f945ed-cc29-455e-8c2c-af4f8a9b6feb",
   "metadata": {},
   "outputs": [],
   "source": [
    "header = '#EEP   M/Mo    LogTeff  LogG   LogL/Lo F218W   F255W   F300W   F336W   F439W   F450W   F555W   F606W   F622W   F675W   F791W   F814W   F850LP'"
   ]
  },
  {
   "cell_type": "code",
   "execution_count": 33,
   "id": "3f305251-9f7f-461d-95ce-128251630299",
   "metadata": {},
   "outputs": [],
   "source": [
    "wpath = '/home/pranav/Grad Classes/Astro Project/Data/Isochrones/'\n",
    "wname = 'cmd'\n",
    "ext = '.txt'"
   ]
  },
  {
   "cell_type": "code",
   "execution_count": 34,
   "id": "33645328-6fcd-4a65-85ee-b9b222e5e17b",
   "metadata": {},
   "outputs": [],
   "source": [
    "rfile = open(rpath)\n",
    "indices = []\n",
    "maxchar = len(rfile.read())"
   ]
  },
  {
   "cell_type": "code",
   "execution_count": 39,
   "id": "8c533f5e-dd00-43d7-96cb-cd222fa3158e",
   "metadata": {},
   "outputs": [
    {
     "data": {
      "text/plain": [
       "421020"
      ]
     },
     "execution_count": 39,
     "metadata": {},
     "output_type": "execute_result"
    }
   ],
   "source": [
    "maxchar"
   ]
  },
  {
   "cell_type": "code",
   "execution_count": 43,
   "id": "42069cc7-6bac-4761-9051-34872970a60c",
   "metadata": {},
   "outputs": [],
   "source": [
    "rfile.seek(0)\n",
    "for x in range(maxchar):\n",
    "    s = rfile.readline()\n",
    "    #print(s)\n",
    "    ##print(\"next\")\n",
    "    if s == \"#EEP   M/Mo    LogTeff  LogG   LogL/Lo F218W   F255W   F300W   F336W   F439W   F450W   F555W   F606W   F622W   F675W   F791W   F814W   F850LP\":\n",
    "        print(\"h\")\n",
    "        indices.append(rfile.tell()-len(s))\n",
    "        \n",
    "indices.append(maxchar)"
   ]
  },
  {
   "cell_type": "code",
   "execution_count": 36,
   "id": "0d7e50dd-0763-447c-b1ed-7884f22667b9",
   "metadata": {},
   "outputs": [],
   "source": [
    "#writes output files between indices\n",
    "rfile.seek(indices[0])\n",
    "os.chdir(wpath)"
   ]
  },
  {
   "cell_type": "code",
   "execution_count": 29,
   "id": "3b79c1e8-c343-4d12-b88b-b91586d9d984",
   "metadata": {},
   "outputs": [
    {
     "data": {
      "text/plain": [
       "1"
      ]
     },
     "execution_count": 29,
     "metadata": {},
     "output_type": "execute_result"
    }
   ],
   "source": [
    "len(indices)"
   ]
  },
  {
   "cell_type": "code",
   "execution_count": 20,
   "id": "a8d2a6ec-83c6-455d-9a81-b35977f806ac",
   "metadata": {},
   "outputs": [],
   "source": [
    "for i in range(len(indices) - 1):\n",
    "    sp = rfile.read(indices[i+1] - indices[i])\n",
    "    print(sp)\n",
    "    wfile = open(wname + str(i+1) + ext, 'x')\n",
    "    wfile.write(sp)"
   ]
  },
  {
   "cell_type": "code",
   "execution_count": 44,
   "id": "43a920a5-cb31-467f-85bf-3605cdd48dcd",
   "metadata": {},
   "outputs": [],
   "source": [
    "import numpy as np"
   ]
  },
  {
   "cell_type": "code",
   "execution_count": 58,
   "id": "44d3699d-395b-4a24-ae20-78003ceca7ea",
   "metadata": {},
   "outputs": [],
   "source": [
    "E,f06w,f814w=np.loadtxt(rpath,unpack=True,usecols=(0,13,17))"
   ]
  },
  {
   "cell_type": "code",
   "execution_count": 59,
   "id": "4f45ae12-a8b4-482d-a2df-e2e22b38cadc",
   "metadata": {},
   "outputs": [
    {
     "data": {
      "text/plain": [
       "2929"
      ]
     },
     "execution_count": 59,
     "metadata": {},
     "output_type": "execute_result"
    }
   ],
   "source": [
    "np.size(E)"
   ]
  },
  {
   "cell_type": "code",
   "execution_count": 71,
   "id": "e8f66c68-0fab-4698-869b-034ad1481641",
   "metadata": {},
   "outputs": [
    {
     "data": {
      "text/plain": [
       "19.0"
      ]
     },
     "execution_count": 71,
     "metadata": {},
     "output_type": "execute_result"
    }
   ],
   "source": [
    "E[267+267+267+267+267+267+267+267]"
   ]
  },
  {
   "cell_type": "code",
   "execution_count": 81,
   "id": "047756c3-876d-4848-8f63-25aff10cef9f",
   "metadata": {},
   "outputs": [
    {
     "data": {
      "text/plain": [
       "array([ 14.,  15.,  16.,  17.,  18.,  19.,  20.,  21.,  22.,  23.,  24.,\n",
       "        25.,  26.,  27.,  28.,  29.,  30.,  31.,  32.,  33.,  34.,  35.,\n",
       "        36.,  37.,  38.,  39.,  40.,  41.,  42.,  43.,  44.,  45.,  46.,\n",
       "        47.,  48.,  49.,  50.,  51.,  52.,  53.,  54.,  55.,  56.,  57.,\n",
       "        58.,  59.,  60.,  61.,  62.,  63.,  64.,  65.,  66.,  67.,  68.,\n",
       "        69.,  70.,  71.,  72.,  73.,  74.,  75.,  76.,  77.,  78.,  79.,\n",
       "        80.,  81.,  82.,  83.,  84.,  85.,  86.,  87.,  88.,  89.,  90.,\n",
       "        91.,  92.,  93.,  94.,  95.,  96.,  97.,  98.,  99., 100., 101.,\n",
       "       102., 103., 104., 105., 106., 107., 108., 109., 110., 111., 112.,\n",
       "       113., 114., 115., 116., 117., 118., 119., 120., 121., 122., 123.,\n",
       "       124., 125., 126., 127., 128., 129., 130., 131., 132., 133., 134.,\n",
       "       135., 136., 137., 138., 139., 140., 141., 142., 143., 144., 145.,\n",
       "       146., 147., 148., 149., 150., 151., 152., 153., 154., 155., 156.,\n",
       "       157., 158., 159., 160., 161., 162., 163., 164., 165., 166., 167.,\n",
       "       168., 169., 170., 171., 172., 173., 174., 175., 176., 177., 178.,\n",
       "       179., 180., 181., 182., 183., 184., 185., 186., 187., 188., 189.,\n",
       "       190., 191., 192., 193., 194., 195., 196., 197., 198., 199., 200.,\n",
       "       201., 202., 203., 204., 205., 206., 207., 208., 209., 210., 211.,\n",
       "       212., 213., 214., 215., 216., 217., 218., 219., 220., 221., 222.,\n",
       "       223., 224., 225., 226., 227., 228., 229., 230., 231., 232., 233.,\n",
       "       234., 235., 236., 237., 238., 239., 240., 241., 242., 243., 244.,\n",
       "       245., 246., 247., 248., 249., 250., 251., 252., 253., 254., 255.,\n",
       "       256., 257., 258., 259., 260., 261., 262., 263., 264., 265., 266.,\n",
       "       267., 268., 269., 270., 271., 272., 273., 274., 275., 276., 277.,\n",
       "       278., 279.])"
      ]
     },
     "execution_count": 81,
     "metadata": {},
     "output_type": "execute_result"
    }
   ],
   "source": [
    "E[267*3:267*4-1]"
   ]
  },
  {
   "cell_type": "code",
   "execution_count": 55,
   "id": "a4b599e3-43dc-41dc-a50e-8cd2d7139c2f",
   "metadata": {},
   "outputs": [],
   "source": [
    "E,f06w,f814w=np.loadtxt(\"cmd1.txt\",unpack=True,usecols=(0,13,17))"
   ]
  },
  {
   "cell_type": "code",
   "execution_count": 56,
   "id": "25de528a-9b9a-47f3-ac46-9c6d405770ae",
   "metadata": {},
   "outputs": [
    {
     "data": {
      "text/plain": [
       "267"
      ]
     },
     "execution_count": 56,
     "metadata": {},
     "output_type": "execute_result"
    }
   ],
   "source": [
    "np.size(E)"
   ]
  },
  {
   "cell_type": "code",
   "execution_count": null,
   "id": "047a2f66-3b41-44a2-9316-1dd59554e8d9",
   "metadata": {},
   "outputs": [],
   "source": []
  }
 ],
 "metadata": {
  "kernelspec": {
   "display_name": "a330",
   "language": "python",
   "name": "a330"
  },
  "language_info": {
   "codemirror_mode": {
    "name": "ipython",
    "version": 3
   },
   "file_extension": ".py",
   "mimetype": "text/x-python",
   "name": "python",
   "nbconvert_exporter": "python",
   "pygments_lexer": "ipython3",
   "version": "3.9.12"
  }
 },
 "nbformat": 4,
 "nbformat_minor": 5
}
