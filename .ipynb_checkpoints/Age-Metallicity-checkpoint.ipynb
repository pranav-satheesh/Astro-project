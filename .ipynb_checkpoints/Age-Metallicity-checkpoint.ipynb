{
 "cells": [
  {
   "cell_type": "code",
   "execution_count": 2,
   "id": "ac7d5152-cec3-46b5-96e5-ed929d78bebd",
   "metadata": {},
   "outputs": [],
   "source": [
    "import numpy as np\n",
    "import matplotlib.pyplot as plt\n",
    "import pandas as pd\n",
    "from scipy import stats as st\n",
    "plt.style.use('default')\n",
    "plt.rc('font', family='serif')\n",
    "plt.rc('xtick', labelsize='x-small')\n",
    "plt.rc('ytick', labelsize='x-small')\n",
    "plt.rcParams['font.size'] = 18"
   ]
  },
  {
   "cell_type": "code",
   "execution_count": 3,
   "id": "c02039f9-feb6-4646-88e1-07c2a2c59008",
   "metadata": {},
   "outputs": [],
   "source": [
    "Cluster_ID=['NGC 362','NGC 3201','NGC 4833','NGC 5139','NGC 6121','NGC 6218','NGC 6254','NGC 6362','NGC 6397','NGC 6656','NGC 6752','NGC 6809','NGC 6838']"
   ]
  },
  {
   "cell_type": "code",
   "execution_count": null,
   "id": "0d7def07-ee6b-42e4-b0ac-665806b57afe",
   "metadata": {},
   "outputs": [],
   "source": []
  }
 ],
 "metadata": {
  "kernelspec": {
   "display_name": "a330",
   "language": "python",
   "name": "a330"
  },
  "language_info": {
   "codemirror_mode": {
    "name": "ipython",
    "version": 3
   },
   "file_extension": ".py",
   "mimetype": "text/x-python",
   "name": "python",
   "nbconvert_exporter": "python",
   "pygments_lexer": "ipython3",
   "version": "3.9.12"
  }
 },
 "nbformat": 4,
 "nbformat_minor": 5
}
